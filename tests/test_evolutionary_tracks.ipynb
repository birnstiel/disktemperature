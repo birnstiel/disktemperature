{
 "cells": [
  {
   "cell_type": "markdown",
   "metadata": {
    "slideshow": {
     "slide_type": "slide"
    }
   },
   "source": [
    "# Stellar Evolutionary Track Data"
   ]
  },
  {
   "cell_type": "code",
   "execution_count": null,
   "metadata": {
    "slideshow": {
     "slide_type": "skip"
    }
   },
   "outputs": [],
   "source": [
    "from disktemperature import pmstracks\n",
    "import numpy             as np\n",
    "import matplotlib.pyplot as plt\n",
    "\n",
    "from matplotlib.pyplot import style\n",
    "from constants         import R_sun,AU,year,L_sun\n",
    "\n",
    "%matplotlib inline\n",
    "\n",
    "style.use(['seaborn-dark',{'axes.grid': True,'font.size':18,'figure.figsize':(10,8),'lines.linewidth':2}]);"
   ]
  },
  {
   "cell_type": "markdown",
   "metadata": {
    "slideshow": {
     "slide_type": "slide"
    }
   },
   "source": [
    "### Initialize the tracks and calculate the parameters on a time grid"
   ]
  },
  {
   "cell_type": "code",
   "execution_count": null,
   "metadata": {},
   "outputs": [],
   "source": [
    "zm = [['01','0.5'],['02','0.5']] # two stars with different metallicity but same mass\n",
    "\n",
    "stars  = [pmstracks.track(z=z,m=m) for z,m in zm]\n",
    "time   = np.logspace(3,7,200)*year\n",
    "tracks = np.array([[star.get_stellar_params(t_) for t_ in time] for star in stars])"
   ]
  },
  {
   "cell_type": "markdown",
   "metadata": {
    "slideshow": {
     "slide_type": "slide"
    }
   },
   "source": [
    "### Plot time evolution of $T_\\mathrm{eff}$, $R_\\mathrm{eff}$, and $L$"
   ]
  },
  {
   "cell_type": "code",
   "execution_count": null,
   "metadata": {},
   "outputs": [],
   "source": [
    "f,axs=plt.subplots(3,1,figsize=(8,10))\n",
    "\n",
    "for track in tracks:\n",
    "    for row,yl in enumerate(['$L$ [$L_\\odot$]','$R_\\mathrm{eff}$ [$R_\\odot$]','$T_\\mathrm{eff}$ [K]']):\n",
    "        axs[row].loglog(time/year,track[:,row]/[L_sun,R_sun,1][row])\n",
    "        axs[row].set_ylabel(yl)\n",
    "        plt.setp(axs[row].xaxis.get_ticklabels(),visible=False)\n",
    "        \n",
    "plt.setp(axs[-1].xaxis.get_ticklabels(),visible=True)\n",
    "axs[-1].xaxis.set_visible(True)\n",
    "axs[-1].set_xlabel('age [yr]')\n",
    "axs[-1].set_yscale('linear')\n",
    "axs[-1].set_ylim(ymin=0);\n",
    "f.tight_layout()"
   ]
  },
  {
   "cell_type": "markdown",
   "metadata": {
    "slideshow": {
     "slide_type": "slide"
    }
   },
   "source": [
    "### Estimate how much the temperature at a given radius should change with time"
   ]
  },
  {
   "cell_type": "code",
   "execution_count": null,
   "metadata": {},
   "outputs": [],
   "source": [
    "f,ax=plt.subplots()\n",
    "for track in tracks:\n",
    "    ax.semilogx(time/year,0.05**0.25*track[:,2]*(AU/(track[:,1]))**-0.5)\n",
    "ax.set_xlabel('age [yr]')\n",
    "ax.set_ylabel('temperature estimate at 1 AU [K]')\n",
    "ax.set_ylim(ymin=0);"
   ]
  }
 ],
 "metadata": {
  "anaconda-cloud": {},
  "kernelspec": {
   "display_name": "Python 3",
   "language": "python",
   "name": "python3"
  },
  "language_info": {
   "codemirror_mode": {
    "name": "ipython",
    "version": 3
   },
   "file_extension": ".py",
   "mimetype": "text/x-python",
   "name": "python",
   "nbconvert_exporter": "python",
   "pygments_lexer": "ipython3",
   "version": "3.6.1"
  }
 },
 "nbformat": 4,
 "nbformat_minor": 1
}
