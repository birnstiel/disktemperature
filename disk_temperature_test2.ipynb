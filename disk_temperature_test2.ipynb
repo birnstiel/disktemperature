{
 "cells": [
  {
   "cell_type": "markdown",
   "metadata": {},
   "source": [
    "# Temperature Test 2"
   ]
  },
  {
   "cell_type": "code",
   "execution_count": null,
   "metadata": {
    "collapsed": true
   },
   "outputs": [],
   "source": [
    "import os, astropy, h5py, tmid\n",
    "from radmc3dPy         import *\n",
    "from StringIO          import StringIO\n",
    "from zipfile           import ZipFile\n",
    "from urllib            import urlopen\n",
    "from scipy.constants   import au\n",
    "from uTILities         import num2tex\n",
    "from matplotlib.pyplot import style\n",
    "from constants         import R_sun,T_sun,M_sun,AU,pi\n",
    "import brewer2mpl\n",
    "import matplotlib.pyplot as plt\n",
    "import numpy             as np\n",
    "\n",
    "AU    = au*100.\n",
    "\n",
    "%matplotlib inline\n",
    "style.use(['seaborn-dark',{'axes.grid': True,'font.size':18,'figure.figsize':(10,8),'lines.linewidth':2}]);"
   ]
  },
  {
   "cell_type": "code",
   "execution_count": null,
   "metadata": {
    "collapsed": true
   },
   "outputs": [],
   "source": [
    "dpath = 'radmc_data'\n",
    "url   = 'https://github.com/birnstiel/Birnstiel2015_scripts/archive/master.zip'\n",
    "#\n",
    "# download\n",
    "#\n",
    "url = urlopen(url)\n",
    "zipfile = ZipFile(StringIO(url.read()))\n",
    "#\n",
    "# unzip radmc data\n",
    "#\n",
    "if not os.path.isdir(dpath):\n",
    "    os.mkdir(dpath)\n",
    "    for i in zipfile.namelist():\n",
    "        if 'data_disklifetime' in i or 'data.hdf5' in i:\n",
    "            if not i.endswith(os.sep):\n",
    "                with open(os.path.join(dpath,os.path.basename(i)), 'wb') as f:\n",
    "                    f.write(zipfile.read(i))"
   ]
  },
  {
   "cell_type": "code",
   "execution_count": null,
   "metadata": {
    "collapsed": true
   },
   "outputs": [],
   "source": [
    "# fix wavelength grid for radmc3dPy\n",
    "with file(os.path.join(dpath,'wavelength_micron.inp')) as f:\n",
    "    wl = [w for w in f.readlines() if w.strip()!='']\n",
    "with file(os.path.join(dpath,'wavelength_micron.inp'),'w') as f:\n",
    "    f.writelines(wl)"
   ]
  },
  {
   "cell_type": "code",
   "execution_count": null,
   "metadata": {
    "collapsed": true
   },
   "outputs": [],
   "source": [
    "# rename gas density file for radmc3dPy\n",
    "import shutil\n",
    "shutil.copy('radmc_data/gas_density.inp','radmc_data/numberdens_gas.inp')"
   ]
  },
  {
   "cell_type": "markdown",
   "metadata": {},
   "source": [
    "## Load RADMC-3D data"
   ]
  },
  {
   "cell_type": "code",
   "execution_count": null,
   "metadata": {
    "collapsed": false
   },
   "outputs": [],
   "source": [
    "pwd = os.getcwd()\n",
    "try:\n",
    "    os.chdir(dpath)\n",
    "    data = analyze.readData(ddens=True,dtemp=True,gdens=True,binary=False,ispec='gas')   \n",
    "finally:\n",
    "    os.chdir(pwd)\n",
    "#\n",
    "# read particle sizes\n",
    "#\n",
    "na, = data.rhodust[0,0,0,:].shape\n",
    "a = h5py.File(os.path.join(dpath,'data.hdf5'))['a'][()][:na]\n",
    "#\n",
    "# gas density\n",
    "#\n",
    "rhog = data.ndens_mol[:,:,0,0]"
   ]
  },
  {
   "cell_type": "markdown",
   "metadata": {},
   "source": [
    "# Plot mid-plane temperature"
   ]
  },
  {
   "cell_type": "code",
   "execution_count": null,
   "metadata": {
    "collapsed": false
   },
   "outputs": [],
   "source": [
    "f,ax = plt.subplots(figsize=(10,8))\n",
    "l,=ax.loglog(data.grid.x/AU,data.dusttemp[:,-1,0,0])\n",
    "\n",
    "ax.set_ylim(1e0,1e4)\n",
    "ax.set_ylabel('T [K]')\n",
    "ax.set_xlabel('r [AU]');"
   ]
  },
  {
   "cell_type": "markdown",
   "metadata": {},
   "source": [
    "# Read the dust data"
   ]
  },
  {
   "cell_type": "markdown",
   "metadata": {},
   "source": [
    "Define a disk model from the diskevol and RADMC-3D result."
   ]
  },
  {
   "cell_type": "code",
   "execution_count": null,
   "metadata": {
    "collapsed": false
   },
   "outputs": [],
   "source": [
    "from pydisk1D import pydisk1D\n",
    "dd = pydisk1D('/Users/birnstiel/Dropbox/projects/scattered_light_gaps/paper_working_copy/scripts/sim_data/data_disklifetime_mstar07_mratio1_rc200_vf10_alpha3_static_243.hdf5')"
   ]
  },
  {
   "cell_type": "code",
   "execution_count": null,
   "metadata": {
    "collapsed": false
   },
   "outputs": [],
   "source": [
    "with h5py.File(dpath+os.sep+'data.hdf5') as f:\n",
    "    M_star = f['M_star'][()]\n",
    "    a      = f['a'][()]\n",
    "    alpha  = f['alpha'][()]\n",
    "    r      = f['r'][()]\n",
    "    sig_g  = f['sig_g'][()]\n",
    "    sig_d  = f['sig_da'][()]\n",
    "    \n",
    "sig_d_t = sig_d.sum(0)\n",
    "M_star  = dd.nml['M_STAR_INITIAL']*M_sun\n",
    "R_star  = dd.nml['R_STAR']\n",
    "T_star  = dd.nml['T_STAR']\n",
    "\n",
    "if not np.all(np.isclose(r,dd.x)):\n",
    "    import warnings\n",
    "    warnings.warn('pydisk1d data and RADMC data not corresponding')"
   ]
  },
  {
   "cell_type": "markdown",
   "metadata": {},
   "source": [
    "Initialize the mid-plane temperature model."
   ]
  },
  {
   "cell_type": "code",
   "execution_count": null,
   "metadata": {
    "collapsed": false
   },
   "outputs": [],
   "source": [
    "self = tmid.tmid(_amin=a[0],_amax=a[-1],_na=len(a),_nl=60,T_star=T_star,R_star=R_star,M_star=M_star)"
   ]
  },
  {
   "cell_type": "code",
   "execution_count": null,
   "metadata": {
    "collapsed": false
   },
   "outputs": [],
   "source": [
    "f,(ax1,ax2) = plt.subplots(2,1,sharex=True)\n",
    "cols = brewer2mpl.get_map('Set2','Qualitative',8).mpl_colors\n",
    "\n",
    "# calculate & plot temperature\n",
    "\n",
    "T = self.get_t_mid(r,sig_g,sig_d,alpha*np.ones(r.shape))\n",
    "\n",
    "ax1.loglog(r/AU,T)\n",
    "ax1.loglog(data.grid.x/AU,data.dusttemp[:,-1,0,0],'--')\n",
    "ax1.set_xlabel('$r$ [AU]')\n",
    "ax1.set_ylabel('$T$ [K]')\n",
    "\n",
    "ax2.semilogx(r/AU,T/np.interp(r,data.grid.x,data.dusttemp[:,-1,0,0])-1)\n",
    "ax2.set_xlabel('$r$ [AU]')\n",
    "ax2.set_ylabel('$\\Delta T/T$');"
   ]
  },
  {
   "cell_type": "markdown",
   "metadata": {},
   "source": [
    "# Compare the temperature after some iteration"
   ]
  },
  {
   "cell_type": "code",
   "execution_count": null,
   "metadata": {
    "collapsed": false
   },
   "outputs": [],
   "source": [
    "from constants import Grav, k_b, mu, m_p\n",
    "phi      = 0.01\n",
    "om       = np.sqrt(Grav*M_star/r**3)\n",
    "T_of_phi = lambda phi: self.get_t_mid(r,sig_g,sig_d,alpha*np.ones(r.shape),phi=phi)\n",
    "H_of_T   = lambda T:   np.sqrt(T*(k_b/mu/m_p))/om\n",
    "T        = tmid.temperature_iterator(r,T_of_phi,H_of_T,do_plot=True,phi_min=0.001)"
   ]
  },
  {
   "cell_type": "code",
   "execution_count": null,
   "metadata": {
    "collapsed": false
   },
   "outputs": [],
   "source": [
    "f,(ax1,ax2) = plt.subplots(2,1,sharex=True)\n",
    "\n",
    "ax1.loglog(r/AU,T)\n",
    "ax1.loglog(data.grid.x/AU,data.dusttemp[:,-1,0,0],'--')\n",
    "ax1.set_xlabel('$r$ [AU]')\n",
    "ax1.set_ylabel('$T$ [K]')\n",
    "\n",
    "ax2.semilogx(r/AU,(T/np.interp(r,data.grid.x,data.dusttemp[:,-1,0,0])-1)*100)\n",
    "ax2.set_xlabel('$r$ [AU]')\n",
    "ax2.set_ylabel('$\\Delta T/T$ [%]');"
   ]
  }
 ],
 "metadata": {
  "kernelspec": {
   "display_name": "Python 2",
   "language": "python",
   "name": "python2"
  },
  "language_info": {
   "codemirror_mode": {
    "name": "ipython",
    "version": 2
   },
   "file_extension": ".py",
   "mimetype": "text/x-python",
   "name": "python",
   "nbconvert_exporter": "python",
   "pygments_lexer": "ipython2",
   "version": "2.7.11"
  }
 },
 "nbformat": 4,
 "nbformat_minor": 0
}
