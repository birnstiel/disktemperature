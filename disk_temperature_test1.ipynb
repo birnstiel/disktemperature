{
 "cells": [
  {
   "cell_type": "markdown",
   "metadata": {},
   "source": [
    "# Temperature Test 1"
   ]
  },
  {
   "cell_type": "code",
   "execution_count": null,
   "metadata": {
    "collapsed": false
   },
   "outputs": [],
   "source": [
    "import tmid\n",
    "import brewer2mpl\n",
    "import numpy             as np\n",
    "import matplotlib.pyplot as plt\n",
    "\n",
    "from matplotlib.pyplot import style\n",
    "from constants         import R_sun,T_sun,M_sun,AU,pi\n",
    "from uTILities         import num2tex\n",
    "\n",
    "%matplotlib inline\n",
    "\n",
    "style.use(['seaborn-dark',{'axes.grid': True,'font.size':18,'figure.figsize':(10,8),'lines.linewidth':2}]);"
   ]
  },
  {
   "cell_type": "markdown",
   "metadata": {},
   "source": [
    "Define a disk model."
   ]
  },
  {
   "cell_type": "code",
   "execution_count": null,
   "metadata": {
    "collapsed": false
   },
   "outputs": [],
   "source": [
    "r        = np.logspace(np.log10(3e-2),np.log10(300),80)*AU\n",
    "M_star  = M_sun\n",
    "R_star  = R_sun\n",
    "T_star  = T_sun\n",
    "M_disk  = 0.1*M_star\n",
    "alpha   = 1e-2\n",
    "r_c     = 60*AU\n",
    "eps     = 0.01\n",
    "sig_g   = M_disk/(2*pi*r_c**2)*(r_c/r)*np.exp(-(r/r_c))\n",
    "sig_g   = M_disk*sig_g/np.trapz(2*pi*r*sig_g,x=r)\n",
    "sig_d_t = sig_g*eps"
   ]
  },
  {
   "cell_type": "markdown",
   "metadata": {},
   "source": [
    "Initialize the mid-plane temperature model."
   ]
  },
  {
   "cell_type": "code",
   "execution_count": null,
   "metadata": {
    "collapsed": false
   },
   "outputs": [],
   "source": [
    "self = tmid.tmid(_na=50,_nl=60,T_star=T_star,R_star=R_star,M_star=M_star)"
   ]
  },
  {
   "cell_type": "code",
   "execution_count": null,
   "metadata": {
    "collapsed": false
   },
   "outputs": [],
   "source": [
    "f,ax = plt.subplots()\n",
    "cols = brewer2mpl.get_map('Set2','Qualitative',8).mpl_colors\n",
    "\n",
    "for iamax,amax in enumerate([1e-3,1e-1]):\n",
    "\n",
    "    # Create dust size distribution\n",
    "    \n",
    "    a    = self.a*1e-4\n",
    "    dist = (a*(a<amax))**0.5\n",
    "    dist = dist/np.sum(dist)+1e-100\n",
    "    sig_d = np.outer(dist,sig_d_t)\n",
    "    sig_d = sig_d/sig_d.sum(0)*sig_d_t\n",
    "\n",
    "    # calculate & plot temperature\n",
    "    \n",
    "    for ialpha,alpha in enumerate([0,1e-3,1e-2,1e-1]):\n",
    "\n",
    "        T = self.get_t_mid(r,sig_g,sig_d,alpha*np.ones(r.shape))\n",
    "        ax.loglog(r/AU,T,color=cols[ialpha],ls='-'+'-'*(iamax==1),\\\n",
    "                  label=(r'$\\alpha = $ '+num2tex(alpha,0,2))*(iamax==0))\n",
    "\n",
    "    ax.plot(np.nan,np.nan,color='k',ls='-'+'-'*(iamax==1),label='$a_\\mathrm{max}$ = '+num2tex(amax,0,2))\n",
    "    l=ax.legend()\n",
    "    ax.set_xlabel('$r$ [AU]')\n",
    "    ax.set_ylabel('$T$ [K]');"
   ]
  }
 ],
 "metadata": {
  "kernelspec": {
   "display_name": "Python 2",
   "language": "python",
   "name": "python2"
  },
  "language_info": {
   "codemirror_mode": {
    "name": "ipython",
    "version": 2
   },
   "file_extension": ".py",
   "mimetype": "text/x-python",
   "name": "python",
   "nbconvert_exporter": "python",
   "pygments_lexer": "ipython2",
   "version": "2.7.11"
  }
 },
 "nbformat": 4,
 "nbformat_minor": 0
}
