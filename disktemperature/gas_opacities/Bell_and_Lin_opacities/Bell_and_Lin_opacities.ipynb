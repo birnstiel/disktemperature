{
 "cells": [
  {
   "cell_type": "markdown",
   "metadata": {},
   "source": [
    "# Bell & Lin Opacities"
   ]
  },
  {
   "cell_type": "markdown",
   "metadata": {},
   "source": [
    "Testing the implementation of the Bell & Lin 1994 opacities and comparing against the orignal paper and the Rice & Armitage 2004 figure."
   ]
  },
  {
   "cell_type": "code",
   "execution_count": null,
   "metadata": {
    "collapsed": false
   },
   "outputs": [],
   "source": [
    "import sys, os\n",
    "import numpy as np\n",
    "import matplotlib.pyplot as plt\n",
    "%matplotlib inline\n",
    "from matplotlib.pyplot import style\n",
    "style.use(['seaborn-darkgrid',{'font.size':10}]);\n",
    "sys.path.append(os.path.abspath('../semenov_opacity/'))\n",
    "import semenov_opacs as so"
   ]
  },
  {
   "cell_type": "code",
   "execution_count": null,
   "metadata": {
    "collapsed": true
   },
   "outputs": [],
   "source": [
    "def kappa_bell_lin_94(T,rho,return_all=False):\n",
    "    \"\"\"\n",
    "    Calculate Bell & Lin 1994 opacities.\n",
    "    \n",
    "         **** NOTE ****\n",
    "       \n",
    "    THIS STILL NEEDS TESTING!\n",
    "    \n",
    "    Arguments:\n",
    "    ----------\n",
    "    \n",
    "    T : float | array\n",
    "    : temperatures at which to return the opacity\n",
    "    \n",
    "    rho : float\n",
    "    : density for which to return the opacity\n",
    "    \n",
    "    Keywords:\n",
    "    ---------\n",
    "    \n",
    "    return_all : bool\n",
    "    : if true:  return the opacities of all the species\n",
    "      if false: return only the total opacity\n",
    "      \n",
    "    Output:\n",
    "    -------\n",
    "    \n",
    "    kappa : array\n",
    "    : the opacity at the given temperatures and density\n",
    "    \"\"\"\n",
    "    \n",
    "    print('         **** NOTE ****\\n')\n",
    "    print('    THIS STILL NEEDS TESTING!\\n')\n",
    "    print('             *******\\n')\n",
    "    \n",
    "    kappa_table = np.array([\n",
    "        [2e-4,      0.0,   2.0],\n",
    "        [2e16,      0.0,  -7.0],\n",
    "        [0.1,       0.0,   0.5],\n",
    "        [2e81,      1.0, -24.0],\n",
    "        [1e-8,   2./3.0,   3.0],\n",
    "        [1e-36,  1./3.0,  10.0],\n",
    "        [1.5e20,    1.0,  -2.5],\n",
    "        [0.348,     0.0,   0.0]])\n",
    "\n",
    "    n_s     = len(kappa_table)\n",
    "    T_table = np.logspace(2,6,500)\n",
    "    kappa   = np.array([k*rho**a*T_table**b for k,a,b in kappa_table])\n",
    "    i_trans = [abs(kappa[i]-kappa[i+1]).argmin() for i in range(n_s-1)]\n",
    "\n",
    "    k_bl    = np.zeros(T_table.shape)\n",
    "    i_s     = 0\n",
    "    for i in range(len(T_table)):\n",
    "\n",
    "        # switch to next species\n",
    "\n",
    "        if i_s<n_s-1 and i>i_trans[i_s]: i_s+=1\n",
    "\n",
    "        # pick opacity\n",
    "            \n",
    "        k_bl[i] = kappa[i_s,i]\n",
    "    \n",
    "    if return_all:\n",
    "        return np.array([np.interp(T,T_table,k) for k in kappa])\n",
    "    else:\n",
    "        return np.interp(T,T_table,k_bl)"
   ]
  },
  {
   "cell_type": "markdown",
   "metadata": {},
   "source": [
    "## Compare to Semenov et al. 2003"
   ]
  },
  {
   "cell_type": "code",
   "execution_count": null,
   "metadata": {
    "collapsed": false
   },
   "outputs": [],
   "source": [
    "temp    = np.logspace(1,6,300)\n",
    "\n",
    "for rho in 10.**np.arange(-5,-10,-1):\n",
    "    \n",
    "    f,ax    = plt.subplots()\n",
    "\n",
    "    #kappas = kappa_bell_lin_94(temp,rho,return_all=True)\n",
    "    k_bl   = kappa_bell_lin_94(temp,rho)\n",
    "    \n",
    "    t_s,k_s = so.get_opac('nrm','c','s',True,rho,len(temp),temp[0],temp[-1])\n",
    "\n",
    "    #f,ax = plt.subplots()\n",
    "    #for i,k in enumerate(kappas):\n",
    "    #    ax.loglog(temp,k,color=plt.cm.get_cmap('Reds')(1-i/(len(kappas)-1.)))\n",
    "\n",
    "    ax.loglog(t_s,k_s,'-',lw=2)\n",
    "    ax.loglog(temp,k_bl,'--',lw=2)\n",
    "    ax.set_ylim(1e-5,1e5);"
   ]
  }
 ],
 "metadata": {
  "kernelspec": {
   "display_name": "Python 2",
   "language": "python",
   "name": "python2"
  },
  "language_info": {
   "codemirror_mode": {
    "name": "ipython",
    "version": 2
   },
   "file_extension": ".py",
   "mimetype": "text/x-python",
   "name": "python",
   "nbconvert_exporter": "python",
   "pygments_lexer": "ipython2",
   "version": "2.7.11"
  }
 },
 "nbformat": 4,
 "nbformat_minor": 0
}
